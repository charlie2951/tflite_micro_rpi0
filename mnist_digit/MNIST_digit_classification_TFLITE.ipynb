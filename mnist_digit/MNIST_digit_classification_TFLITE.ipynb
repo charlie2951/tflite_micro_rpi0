{
  "nbformat": 4,
  "nbformat_minor": 0,
  "metadata": {
    "colab": {
      "provenance": [],
      "gpuType": "T4"
    },
    "kernelspec": {
      "name": "python3",
      "display_name": "Python 3"
    },
    "language_info": {
      "name": "python"
    },
    "accelerator": "GPU"
  },
  "cells": [
    {
      "cell_type": "code",
      "execution_count": null,
      "metadata": {
        "id": "4sThgDuQO0b1"
      },
      "outputs": [],
      "source": [
        "import tensorflow as tf\n",
        "import numpy as np\n",
        "import matplotlib.pyplot as plt\n"
      ]
    },
    {
      "cell_type": "code",
      "source": [
        "mnist = tf.keras.datasets.mnist\n",
        "(x_train,y_train) , (x_test,y_test) = mnist.load_data()\n",
        "\n",
        "x_train = tf.keras.utils.normalize(x_train,axis=1)\n",
        "x_test = tf.keras.utils.normalize(x_test,axis=1)\n"
      ],
      "metadata": {
        "colab": {
          "base_uri": "https://localhost:8080/"
        },
        "id": "GSPhvSJXQEWC",
        "outputId": "a3fb7833-4e7e-4dcc-871b-13c28044dd2d"
      },
      "execution_count": null,
      "outputs": [
        {
          "output_type": "stream",
          "name": "stdout",
          "text": [
            "Downloading data from https://storage.googleapis.com/tensorflow/tf-keras-datasets/mnist.npz\n",
            "11490434/11490434 [==============================] - 0s 0us/step\n"
          ]
        }
      ]
    },
    {
      "cell_type": "code",
      "source": [
        "def draw(n):\n",
        "\tplt.imshow(n,cmap=plt.cm.binary)\n",
        "\tplt.show()\n",
        "\n",
        "draw(x_train[0])\n"
      ],
      "metadata": {
        "colab": {
          "base_uri": "https://localhost:8080/",
          "height": 430
        },
        "id": "fMpHfpVrQHOo",
        "outputId": "458922a0-b4c1-4a86-f4fd-e70fb8710746"
      },
      "execution_count": null,
      "outputs": [
        {
          "output_type": "display_data",
          "data": {
            "text/plain": [
              "<Figure size 640x480 with 1 Axes>"
            ],
            "image/png": "[encoded data removed]"
          },
          "metadata": {}
        }
      ]
    },
    {
      "cell_type": "code",
      "source": [
        "#there are two types of models\n",
        "#sequential is most common, why?\n",
        "\n",
        "model = tf.keras.models.Sequential()\n",
        "\n",
        "model.add(tf.keras.layers.Flatten(input_shape=(28, 28)))\n",
        "#reshape\n",
        "\n",
        "model.add(tf.keras.layers.Dense(128,activation=tf.nn.relu))\n",
        "model.add(tf.keras.layers.Dense(128,activation=tf.nn.relu))\n",
        "model.add(tf.keras.layers.Dense(10,activation=tf.nn.softmax))\n",
        "\n",
        "model.compile(optimizer='adam',\n",
        "\t\t\tloss='sparse_categorical_crossentropy',\n",
        "\t\t\tmetrics=['accuracy']\n",
        "\t\t\t)\n",
        "model.fit(x_train,y_train,epochs=50)\n"
      ],
      "metadata": {
        "colab": {
          "base_uri": "https://localhost:8080/"
        },
        "id": "CkW7C-kPQW98",
        "outputId": "30953145-5001-4dc4-d2b1-5621038c38b2"
      },
      "execution_count": null,
      "outputs": [
        {
          "output_type": "stream",
          "name": "stdout",
          "text": [
            "Epoch 1/50\n",
            "1875/1875 [==============================] - 8s 3ms/step - loss: 0.2659 - accuracy: 0.9212\n",
            "Epoch 2/50\n",
            "1875/1875 [==============================] - 6s 3ms/step - loss: 0.1069 - accuracy: 0.9666\n",
            "Epoch 3/50\n",
            "1875/1875 [==============================] - 5s 3ms/step - loss: 0.0732 - accuracy: 0.9773\n",
            "Epoch 4/50\n",
            "1875/1875 [==============================] - 5s 3ms/step - loss: 0.0540 - accuracy: 0.9825\n",
            "Epoch 5/50\n",
            "1875/1875 [==============================] - 5s 3ms/step - loss: 0.0403 - accuracy: 0.9867\n",
            "Epoch 6/50\n",
            "1875/1875 [==============================] - 5s 3ms/step - loss: 0.0333 - accuracy: 0.9887\n",
            "Epoch 7/50\n",
            "1875/1875 [==============================] - 6s 3ms/step - loss: 0.0258 - accuracy: 0.9915\n",
            "Epoch 8/50\n",
            "1875/1875 [==============================] - 5s 3ms/step - loss: 0.0218 - accuracy: 0.9924\n",
            "Epoch 9/50\n",
            "1875/1875 [==============================] - 7s 4ms/step - loss: 0.0190 - accuracy: 0.9935\n",
            "Epoch 10/50\n",
            "1875/1875 [==============================] - 6s 3ms/step - loss: 0.0153 - accuracy: 0.9949\n",
            "Epoch 11/50\n",
            "1875/1875 [==============================] - 6s 3ms/step - loss: 0.0149 - accuracy: 0.9952\n",
            "Epoch 12/50\n",
            "1875/1875 [==============================] - 5s 3ms/step - loss: 0.0128 - accuracy: 0.9957\n",
            "Epoch 13/50\n",
            "1875/1875 [==============================] - 5s 3ms/step - loss: 0.0110 - accuracy: 0.9962\n",
            "Epoch 14/50\n",
            "1875/1875 [==============================] - 7s 4ms/step - loss: 0.0110 - accuracy: 0.9961\n",
            "Epoch 15/50\n",
            "1875/1875 [==============================] - 10s 5ms/step - loss: 0.0096 - accuracy: 0.9966\n",
            "Epoch 16/50\n",
            "1875/1875 [==============================] - 5s 3ms/step - loss: 0.0092 - accuracy: 0.9967\n",
            "Epoch 17/50\n",
            "1875/1875 [==============================] - 6s 3ms/step - loss: 0.0085 - accuracy: 0.9970\n",
            "Epoch 18/50\n",
            "1875/1875 [==============================] - 5s 3ms/step - loss: 0.0094 - accuracy: 0.9968\n",
            "Epoch 19/50\n",
            "1875/1875 [==============================] - 6s 3ms/step - loss: 0.0077 - accuracy: 0.9976\n",
            "Epoch 20/50\n",
            "1875/1875 [==============================] - 5s 3ms/step - loss: 0.0075 - accuracy: 0.9974\n",
            "Epoch 21/50\n",
            "1875/1875 [==============================] - 5s 3ms/step - loss: 0.0086 - accuracy: 0.9970\n",
            "Epoch 22/50\n",
            "1875/1875 [==============================] - 5s 3ms/step - loss: 0.0074 - accuracy: 0.9978\n",
            "Epoch 23/50\n",
            "1875/1875 [==============================] - 5s 3ms/step - loss: 0.0072 - accuracy: 0.9975\n",
            "Epoch 24/50\n",
            "1875/1875 [==============================] - 6s 3ms/step - loss: 0.0066 - accuracy: 0.9977\n",
            "Epoch 25/50\n",
            "1875/1875 [==============================] - 5s 3ms/step - loss: 0.0067 - accuracy: 0.9977\n",
            "Epoch 26/50\n",
            "1875/1875 [==============================] - 9s 5ms/step - loss: 0.0056 - accuracy: 0.9981\n",
            "Epoch 27/50\n",
            "1875/1875 [==============================] - 7s 4ms/step - loss: 0.0072 - accuracy: 0.9977\n",
            "Epoch 28/50\n",
            "1875/1875 [==============================] - 6s 3ms/step - loss: 0.0046 - accuracy: 0.9986\n",
            "Epoch 29/50\n",
            "1875/1875 [==============================] - 5s 3ms/step - loss: 0.0080 - accuracy: 0.9975\n",
            "Epoch 30/50\n",
            "1875/1875 [==============================] - 10s 5ms/step - loss: 0.0050 - accuracy: 0.9984\n",
            "Epoch 31/50\n",
            "1875/1875 [==============================] - 8s 4ms/step - loss: 0.0056 - accuracy: 0.9983\n",
            "Epoch 32/50\n",
            "1875/1875 [==============================] - 8s 4ms/step - loss: 0.0063 - accuracy: 0.9980\n",
            "Epoch 33/50\n",
            "1875/1875 [==============================] - 6s 3ms/step - loss: 0.0048 - accuracy: 0.9984\n",
            "Epoch 34/50\n",
            "1875/1875 [==============================] - 5s 3ms/step - loss: 0.0062 - accuracy: 0.9981\n",
            "Epoch 35/50\n",
            "1875/1875 [==============================] - 6s 3ms/step - loss: 0.0034 - accuracy: 0.9989\n",
            "Epoch 36/50\n",
            "1875/1875 [==============================] - 5s 3ms/step - loss: 0.0049 - accuracy: 0.9984\n",
            "Epoch 37/50\n",
            "1875/1875 [==============================] - 6s 3ms/step - loss: 0.0058 - accuracy: 0.9981\n",
            "Epoch 38/50\n",
            "1875/1875 [==============================] - 5s 3ms/step - loss: 0.0047 - accuracy: 0.9985\n",
            "Epoch 39/50\n",
            "1875/1875 [==============================] - 6s 3ms/step - loss: 0.0050 - accuracy: 0.9984\n",
            "Epoch 40/50\n",
            "1875/1875 [==============================] - 5s 3ms/step - loss: 0.0052 - accuracy: 0.9982\n",
            "Epoch 41/50\n",
            "1875/1875 [==============================] - 8s 4ms/step - loss: 0.0051 - accuracy: 0.9985\n",
            "Epoch 42/50\n",
            "1875/1875 [==============================] - 5s 3ms/step - loss: 0.0048 - accuracy: 0.9987\n",
            "Epoch 43/50\n",
            "1875/1875 [==============================] - 6s 3ms/step - loss: 0.0052 - accuracy: 0.9984\n",
            "Epoch 44/50\n",
            "1875/1875 [==============================] - 6s 3ms/step - loss: 0.0032 - accuracy: 0.9989\n",
            "Epoch 45/50\n",
            "1875/1875 [==============================] - 8s 4ms/step - loss: 0.0055 - accuracy: 0.9984\n",
            "Epoch 46/50\n",
            "1875/1875 [==============================] - 6s 3ms/step - loss: 0.0044 - accuracy: 0.9987\n",
            "Epoch 47/50\n",
            "1875/1875 [==============================] - 6s 3ms/step - loss: 0.0054 - accuracy: 0.9984\n",
            "Epoch 48/50\n",
            "1875/1875 [==============================] - 5s 3ms/step - loss: 0.0038 - accuracy: 0.9989\n",
            "Epoch 49/50\n",
            "1875/1875 [==============================] - 5s 3ms/step - loss: 0.0048 - accuracy: 0.9986\n",
            "Epoch 50/50\n",
            "1875/1875 [==============================] - 5s 3ms/step - loss: 0.0046 - accuracy: 0.9985\n"
          ]
        },
        {
          "output_type": "execute_result",
          "data": {
            "text/plain": [
              "<keras.src.callbacks.History at 0x78aca437ffd0>"
            ]
          },
          "metadata": {},
          "execution_count": 4
        }
      ]
    },
    {
      "cell_type": "code",
      "source": [
        "val_loss,val_acc = model.evaluate(x_test,y_test)\n",
        "print(\"loss-> \",val_loss,\"\\nacc-> \",val_acc)\n"
      ],
      "metadata": {
        "colab": {
          "base_uri": "https://localhost:8080/"
        },
        "id": "SJw03G1LQKSX",
        "outputId": "a3fce537-36cc-45da-c608-ad1324192670"
      },
      "execution_count": null,
      "outputs": [
        {
          "output_type": "stream",
          "name": "stdout",
          "text": [
            "313/313 [==============================] - 1s 2ms/step - loss: 0.2420 - accuracy: 0.9766\n",
            "loss->  0.2420147955417633 \n",
            "acc->  0.9765999913215637\n"
          ]
        }
      ]
    },
    {
      "cell_type": "code",
      "source": [
        "predictions=model.predict([x_test])\n",
        "img_no = 6\n",
        "print('label -> ',y_test[img_no])\n",
        "print('prediction -> ',np.argmax(predictions[img_no]))\n",
        "print(predictions[img_no])\n",
        "draw(x_test[img_no])\n"
      ],
      "metadata": {
        "colab": {
          "base_uri": "https://localhost:8080/",
          "height": 517
        },
        "id": "HtBgKkvjQo3_",
        "outputId": "842adb88-e006-46b2-c678-1b7c7b0688c9"
      },
      "execution_count": null,
      "outputs": [
        {
          "output_type": "stream",
          "name": "stdout",
          "text": [
            "313/313 [==============================] - 1s 2ms/step\n",
            "label ->  4\n",
            "prediction ->  4\n",
            "[0.0000000e+00 6.5310042e-29 1.7993180e-27 7.0269900e-34 1.0000000e+00\n",
            " 2.6763770e-20 0.0000000e+00 6.4737223e-24 3.0865406e-14 6.0707174e-18]\n"
          ]
        },
        {
          "output_type": "display_data",
          "data": {
            "text/plain": [
              "<Figure size 640x480 with 1 Axes>"
            ],
            "image/png": "[encoded data removed]"
          },
          "metadata": {}
        }
      ]
    },
    {
      "cell_type": "code",
      "source": [
        "print(y_test)"
      ],
      "metadata": {
        "colab": {
          "base_uri": "https://localhost:8080/"
        },
        "id": "61lpC0h3Sjci",
        "outputId": "16017724-b011-4f29-80b3-33f8101a6dc4"
      },
      "execution_count": null,
      "outputs": [
        {
          "output_type": "stream",
          "name": "stdout",
          "text": [
            "[7 2 1 ... 4 5 6]\n"
          ]
        }
      ]
    },
    {
      "cell_type": "code",
      "source": [
        "#saving the model\n",
        "# .h5 or .model can be used\n",
        "\n",
        "model.save('mnist_digit')\n"
      ],
      "metadata": {
        "id": "sq9UpdAIQqjN"
      },
      "execution_count": null,
      "outputs": []
    },
    {
      "cell_type": "markdown",
      "source": [
        "**Convert to TFLITE model**"
      ],
      "metadata": {
        "id": "9r4j-EDmRADY"
      }
    },
    {
      "cell_type": "code",
      "source": [
        "converter = tf.lite.TFLiteConverter.from_saved_model(\"mnist_digit\")\n",
        "model_no_quant_tflite = converter.convert()\n",
        "\n",
        "# Save the model to disk\n",
        "open(\"mnist_digit.tflite\", \"wb\").write(model_no_quant_tflite)"
      ],
      "metadata": {
        "colab": {
          "base_uri": "https://localhost:8080/"
        },
        "id": "NJ-MXdK7RCsv",
        "outputId": "4ca6a6ec-395e-40c8-83f5-8a47553ab6db"
      },
      "execution_count": null,
      "outputs": [
        {
          "output_type": "execute_result",
          "data": {
            "text/plain": [
              "475516"
            ]
          },
          "metadata": {},
          "execution_count": 15
        }
      ]
    },
    {
      "cell_type": "markdown",
      "source": [
        "**Classification using Tensorflow Lite model**"
      ],
      "metadata": {
        "id": "jqd3ReoaRSrW"
      }
    },
    {
      "cell_type": "code",
      "source": [
        "# Initialize the TFLite interpreter\n",
        "interpreter = tf.lite.Interpreter(model_path=\"/content/mnist_digit.tflite\")\n",
        "interpreter.allocate_tensors()\n",
        "input_details = interpreter.get_input_details()[0]\n",
        "output_details = interpreter.get_output_details()[0]\n",
        "#Apply input (here we are applying scaled input from test set)\n",
        "#Later we shall go for live classification\n",
        "image_number=34\n",
        "n=x_test[image_number]\n",
        "# Invoke the interpreter\n",
        "interpreter.set_tensor(input_details[\"index\"], [n.astype(np.float32)])\n",
        "interpreter.invoke()\n",
        "y_pred = interpreter.get_tensor(output_details[\"index\"])[0]\n",
        "#set labels for output classes\n",
        "labels = '''0 1 2 3 4 5 6 7 8 9'''.split()\n",
        "# save the predicted label\n",
        "predicted_label = labels[y_pred.argmax()]\n",
        "\n",
        "# load the original label\n",
        "original_label = labels[y_test[image_number]]\n",
        "\n",
        "# display the result\n",
        "print(\"Original label is {} and predicted label is {}\".format(\n",
        "\toriginal_label, predicted_label))\n",
        "draw(x_test[image_number])"
      ],
      "metadata": {
        "colab": {
          "base_uri": "https://localhost:8080/",
          "height": 447
        },
        "id": "i8GBbW00_bfV",
        "outputId": "d40eb4e1-aa5e-4048-d687-11532f54607c"
      },
      "execution_count": null,
      "outputs": [
        {
          "output_type": "stream",
          "name": "stdout",
          "text": [
            "Original label is 7 and predicted label is 7\n"
          ]
        },
        {
          "output_type": "display_data",
          "data": {
            "text/plain": [
              "<Figure size 640x480 with 1 Axes>"
            ],
            "image/png": "[encoded data removed]"
          },
          "metadata": {}
        }
      ]
    },
    {
      "cell_type": "code",
      "source": [
        "print(x_test[image_number])"
      ],
      "metadata": {
        "id": "drmtJaavdLrA"
      },
      "execution_count": null,
      "outputs": []
    },
    {
      "cell_type": "code",
      "source": [
        "# Imports PIL module\n",
        "from PIL import Image\n",
        "# open method used to open different extension image file\n",
        "im = Image.open(\"/content/9.png\").convert('L')\n",
        "new_image = im.resize((28, 28))\n",
        "x_new=np.array(new_image)\n",
        "x_new = x_new/255\n",
        "print(x_new)\n",
        "# Invoke the interpreter\n",
        "interpreter.set_tensor(input_details[\"index\"], [x_new.astype(np.float32)])\n",
        "interpreter.invoke()\n",
        "y_pred1 = interpreter.get_tensor(output_details[\"index\"])[0]\n",
        "# save the predicted label\n",
        "#print(y_pred1)\n",
        "predicted_label1 = labels[y_pred1.argmax()]\n",
        "print(\"Predicted label is:\",predicted_label1)\n",
        "plt.imshow(new_image)"
      ],
      "metadata": {
        "id": "L64hRtYDGLnI"
      },
      "execution_count": null,
      "outputs": []
    }
  ]
}